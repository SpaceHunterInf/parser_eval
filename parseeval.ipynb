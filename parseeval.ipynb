{
 "cells": [
  {
   "cell_type": "code",
   "execution_count": 1,
   "id": "00709c4b",
   "metadata": {},
   "outputs": [],
   "source": [
    "import benepar, spacy\n",
    "import timeit\n",
    "import os"
   ]
  },
  {
   "cell_type": "code",
   "execution_count": 4,
   "id": "fb9f8540",
   "metadata": {},
   "outputs": [],
   "source": [
    "folder_names = []\n",
    "for i in range(9):\n",
    "    folder_names.append(str(i+1))\n",
    "folder_names += ['10a', '10b']\n"
   ]
  },
  {
   "cell_type": "code",
   "execution_count": 6,
   "id": "ddf74aa1",
   "metadata": {},
   "outputs": [],
   "source": [
    "folder_names = ['sent'+x for x in folder_names]"
   ]
  },
  {
   "cell_type": "code",
   "execution_count": 7,
   "id": "e60865c7",
   "metadata": {},
   "outputs": [],
   "source": [
    "file_names = ['sf.txt','gold.txt','ben.txt']"
   ]
  },
  {
   "cell_type": "code",
   "execution_count": 10,
   "id": "4614814c",
   "metadata": {},
   "outputs": [],
   "source": [
    "with open(r'evalb/sent1/sf.txt','r') as f:\n",
    "    sf = f.read().splitlines()"
   ]
  },
  {
   "cell_type": "code",
   "execution_count": 13,
   "id": "de4459b4",
   "metadata": {},
   "outputs": [],
   "source": [
    "sf = []\n",
    "gold = []\n",
    "ben = []\n",
    "for folder in folder_names:\n",
    "    with open(r'evalb/'+folder+'/sf.txt','r') as f:\n",
    "        sf += f.read().splitlines()\n",
    "    with open(r'evalb/'+folder+'/gold.txt','r') as f:\n",
    "        gold += f.read().splitlines()\n",
    "    with open(r'evalb/'+folder+'/ben.txt','r') as f:\n",
    "        ben += f.read().splitlines()"
   ]
  },
  {
   "cell_type": "code",
   "execution_count": 16,
   "id": "9ee92900",
   "metadata": {},
   "outputs": [],
   "source": [
    "with open('gold_all.txt','w') as f:\n",
    "    f.write('\\n'.join(gold))\n",
    "    f.close()"
   ]
  },
  {
   "cell_type": "code",
   "execution_count": 17,
   "id": "0862a272",
   "metadata": {},
   "outputs": [],
   "source": [
    "with open('ben_all.txt','w') as f:\n",
    "    f.write('\\n'.join(ben))\n",
    "    f.close()"
   ]
  },
  {
   "cell_type": "code",
   "execution_count": 18,
   "id": "a20ef1fd",
   "metadata": {},
   "outputs": [],
   "source": [
    "with open('sf_all.txt','w') as f:\n",
    "    f.write('\\n'.join(sf))\n",
    "    f.close()"
   ]
  },
  {
   "cell_type": "code",
   "execution_count": 3,
   "id": "cb7e619f",
   "metadata": {},
   "outputs": [
    {
     "name": "stderr",
     "output_type": "stream",
     "text": [
      "[nltk_data] Downloading package benepar_en3 to\n",
      "[nltk_data]     C:\\Users\\SpaceHunter\\AppData\\Roaming\\nltk_data...\n",
      "[nltk_data]   Unzipping models\\benepar_en3.zip.\n"
     ]
    },
    {
     "data": {
      "text/plain": [
       "True"
      ]
     },
     "execution_count": 3,
     "metadata": {},
     "output_type": "execute_result"
    }
   ],
   "source": [
    "benepar.download('benepar_en3')"
   ]
  },
  {
   "cell_type": "code",
   "execution_count": 10,
   "id": "ed5e4482",
   "metadata": {},
   "outputs": [],
   "source": [
    "nlp = spacy.load('en_core_web_md')\n",
    "if spacy.__version__.startswith('2'):\n",
    "    nlp.add_pipe(benepar.BeneparComponent(\"benepar_en3\"))\n",
    "else:\n",
    "    nlp.add_pipe(\"benepar\", config={\"model\": \"benepar_en3\"})"
   ]
  },
  {
   "cell_type": "code",
   "execution_count": 27,
   "id": "e89cc90d",
   "metadata": {
    "scrolled": false
   },
   "outputs": [
    {
     "name": "stdout",
     "output_type": "stream",
     "text": [
      " The start time is : 9816.6558099\n",
      "(ROOT (S (PP (IN For) (NP (NN example))) (NP (DT the) (JJ original) (NML (NNP Brown) (CC and) (NNP C5)) (NNS tagsets)) (VP (VBP include) (NP (NP (NP (DT a) (JJ separate) (NN tag)) (PP (IN for) (NP (NP (DT each)) (PP (IN of) (NP (NP (NP (NP (DT the) (JJ different) (NNS forms)) (PP (IN of) (NP (DT the) (NNS verbs)))) (VBP do)) (-LRB- -LRB-) (ADVP (FW e.g.)) (NP (NP (NP (CD C5) (NN tag)) (NP (NP (NNP VDD)) (PP (IN for) (S (VP (VBN did)))))) (CC and) (NP (NP (NN VDG) (NN tag)) (PP (IN for) (NP (NN doing))))) (-RRB- -RRB-)))))) (, ,) (VP (VB be) (CC and) (VBP have)))) (. .)))\n",
      "The time difference is : 0.11702119999972638\n",
      "[ROOT [S [PP [IN For] [NP [NN example]]] [NP [DT the] [JJ original] [NML [NNP Brown] [CC and] [NNP C5]] [NNS tagsets]] [VP [VBP include] [NP [NP [NP [DT a] [JJ separate] [NN tag]] [PP [IN for] [NP [NP [DT each]] [PP [IN of] [NP [NP [NP [NP [DT the] [JJ different] [NNS forms]] [PP [IN of] [NP [DT the] [NNS verbs]]]] [VBP do]] [-LRB- -LRB-] [ADVP [FW e.g.]] [NP [NP [NP [CD C5] [NN tag]] [NP [NP [NNP VDD]] [PP [IN for] [S [VP [VBN did]]]]]] [CC and] [NP [NP [NN VDG] [NN tag]] [PP [IN for] [NP [NN doing]]]]] [-RRB- -RRB-]]]]]] [, ,] [VP [VB be] [CC and] [VBP have]]]] [. .]]]\n"
     ]
    }
   ],
   "source": [
    "starttime = timeit.default_timer()\n",
    "print(\" The start time is :\",starttime)\n",
    "doc = nlp(\"For example the original Brown and C5 tagsets include a separate tag for each of the different forms of the verbs do (e.g. C5 tag VDD for did and VDG tag for doing), be and have.\")\n",
    "sent = list(doc.sents)[0]\n",
    "parsed = ('(ROOT '+sent._.parse_string+')')\n",
    "print(parsed)\n",
    "print(\"The time difference is :\", timeit.default_timer() - starttime)\n",
    "print(bracket(parsed))"
   ]
  },
  {
   "cell_type": "code",
   "execution_count": 28,
   "id": "167de76a",
   "metadata": {},
   "outputs": [
    {
     "data": {
      "text/plain": [
       "'(ROOT (S (PP (IN For) (NP (NN example))) (PRN (S (NP (DT the) (JJ original) (NNP Brown) (CC and) (NNP C5) (NNS tagsets)) (VP (VBP include) (SBAR (S (S (NP (NP (DT a) (JJ separate) (NN tag)) (PP (IN for) (NP (NP (DT each)) (PP (IN of) (NP (NP (DT the) (JJ different) (NNS forms)) (PP (IN of) (NP (DT the) (NNS verbs)))))))) (VP (VBP do) (SINV (VBP -LRB-) (NP (NNP e.g.) (NNP C5)) (VP (VB tag) (NP (NP (NNP VDD)) (SBAR (WHNP (IN for)) (S (VP (VBD did))))))))) (CC and) (S (NP (NP (NNP VDG) (NN tag)) (PP (IN for) (NP (VBG doing)))) (VP (VBP -RRB-))))))) (, ,)) (VP (VB be) (CC and) (VB have)) (. .)))'"
      ]
     },
     "execution_count": 28,
     "metadata": {},
     "output_type": "execute_result"
    }
   ],
   "source": [
    "\"(S (NP (QP (ADVP (RB At) (RBS least)) (CD two)) (NNS men)) (VP (VP (VBD broke) (PRT (RP in))) (CC and) (VP (VBD stole) (NP (PRP$ my) (NN TV)))) (. .))\""
   ]
  },
  {
   "cell_type": "code",
   "execution_count": null,
   "id": "25775293",
   "metadata": {},
   "outputs": [],
   "source": [
    "def f1(pre, rec):\n",
    "    return 2*(pre*rec)/(pre+rec)"
   ]
  },
  {
   "cell_type": "code",
   "execution_count": null,
   "id": "cb65806f",
   "metadata": {},
   "outputs": [],
   "source": [
    "f1(44.44, 44.44)"
   ]
  },
  {
   "cell_type": "code",
   "execution_count": 4,
   "id": "5b58a50b",
   "metadata": {},
   "outputs": [],
   "source": [
    "def bracket(x):\n",
    "    x = x.replace('(','[')\n",
    "    x =x.replace(')',']')\n",
    "    return x"
   ]
  },
  {
   "cell_type": "code",
   "execution_count": 29,
   "id": "0e485c3f",
   "metadata": {},
   "outputs": [],
   "source": [
    "x = bracket(\"(ROOT (S (PP (IN For) (NP (NN example))) (PRN (S (NP (DT the) (JJ original) (NNP Brown) (CC and) (NNP C5) (NNS tagsets)) (VP (VBP include) (SBAR (S (S (NP (NP (DT a) (JJ separate) (NN tag)) (PP (IN for) (NP (NP (DT each)) (PP (IN of) (NP (NP (DT the) (JJ different) (NNS forms)) (PP (IN of) (NP (DT the) (NNS verbs)))))))) (VP (VBP do) (SINV (VBP -LRB-) (NP (NNP e.g.) (NNP C5)) (VP (VB tag) (NP (NP (NNP VDD)) (SBAR (WHNP (IN for)) (S (VP (VBD did))))))))) (CC and) (S (NP (NP (NNP VDG) (NN tag)) (PP (IN for) (NP (VBG doing)))) (VP (VBP -RRB-))))))) (, ,)) (VP (VB be) (CC and) (VB have)) (. .)))\")"
   ]
  },
  {
   "cell_type": "code",
   "execution_count": 30,
   "id": "d5ae4535",
   "metadata": {},
   "outputs": [
    {
     "data": {
      "text/plain": [
       "'[ROOT [S [PP [IN For] [NP [NN example]]] [PRN [S [NP [DT the] [JJ original] [NNP Brown] [CC and] [NNP C5] [NNS tagsets]] [VP [VBP include] [SBAR [S [S [NP [NP [DT a] [JJ separate] [NN tag]] [PP [IN for] [NP [NP [DT each]] [PP [IN of] [NP [NP [DT the] [JJ different] [NNS forms]] [PP [IN of] [NP [DT the] [NNS verbs]]]]]]]] [VP [VBP do] [SINV [VBP -LRB-] [NP [NNP e.g.] [NNP C5]] [VP [VB tag] [NP [NP [NNP VDD]] [SBAR [WHNP [IN for]] [S [VP [VBD did]]]]]]]]] [CC and] [S [NP [NP [NNP VDG] [NN tag]] [PP [IN for] [NP [VBG doing]]]] [VP [VBP -RRB-]]]]]]] [, ,]] [VP [VB be] [CC and] [VB have]] [. .]]]'"
      ]
     },
     "execution_count": 30,
     "metadata": {},
     "output_type": "execute_result"
    }
   ],
   "source": [
    "x"
   ]
  },
  {
   "cell_type": "code",
   "execution_count": 22,
   "id": "ca1f1883",
   "metadata": {},
   "outputs": [],
   "source": [
    "x = bracket(\"(ROOT (S (NP (NNP English))  (VP (ADVP (RB also))   (VP (VBZ has)    (NP (NP (ADJP (JJ many)) (NP (NNS words) (PP (IN of) (NP (NP (ADJP (ADJP (JJR more))     (CONJP (CC or) (ADJP (JJR less)))) (NP (ADJP (JJ unique)) (NN function))) (VP (, ,)     (VP (VP (VP (VP (VBG including) (NP (NP (NNS interjections)) (PRN (-LRB- -LRB-)      (LST (LST (UH oh) (, ,)) (UH ah)) (-RRB- -RRB-)))     (, ,) (NP (NP (NNS negatives))  (PRN (-LRB- -LRB-) (LST (LST (RB no) (, ,)) (RB not)) (-RRB- -RRB-))) (, ,)  (NP (NP (NN politeness) (NNS markers)) (PRN (-LRB- -LRB-)  (LST (LST (UH please) (, ,)) (VP (VB thank) (NP (PRP you))))  (-RRB- -RRB-))) (, ,)  (CONJP (CC and) (ADVP (ADVP (ADVP (DT the) (ADVP (ADJP (JJ existential)) (`` ')  (ADVP (RB there)))) ('' ')) (PRN (-LRB- -LRB-)  (S (EX there)   (VP (VBP are)    (NP (NNS horses) (CONJP (CC but) (ADVP (RB not))     (NP (NNS unicorns)))))))))  (-RRB- -RRB-)) (PP (IN among) (NP (NNS others)))))))))))))) (. .)))\")"
   ]
  },
  {
   "cell_type": "code",
   "execution_count": 23,
   "id": "259af77d",
   "metadata": {},
   "outputs": [
    {
     "data": {
      "text/plain": [
       "\"[ROOT [S [NP [NNP English]]  [VP [ADVP [RB also]]   [VP [VBZ has]    [NP [NP [ADJP [JJ many]] [NP [NNS words] [PP [IN of] [NP [NP [ADJP [ADJP [JJR more]]     [CONJP [CC or] [ADJP [JJR less]]]] [NP [ADJP [JJ unique]] [NN function]]] [VP [, ,]     [VP [VP [VP [VP [VBG including] [NP [NP [NNS interjections]] [PRN [-LRB- -LRB-]      [LST [LST [UH oh] [, ,]] [UH ah]] [-RRB- -RRB-]]]     [, ,] [NP [NP [NNS negatives]]  [PRN [-LRB- -LRB-] [LST [LST [RB no] [, ,]] [RB not]] [-RRB- -RRB-]]] [, ,]  [NP [NP [NN politeness] [NNS markers]] [PRN [-LRB- -LRB-]  [LST [LST [UH please] [, ,]] [VP [VB thank] [NP [PRP you]]]]  [-RRB- -RRB-]]] [, ,]  [CONJP [CC and] [ADVP [ADVP [ADVP [DT the] [ADVP [ADJP [JJ existential]] [`` ']  [ADVP [RB there]]]] ['' ']] [PRN [-LRB- -LRB-]  [S [EX there]   [VP [VBP are]    [NP [NNS horses] [CONJP [CC but] [ADVP [RB not]]     [NP [NNS unicorns]]]]]]]]]  [-RRB- -RRB-]] [PP [IN among] [NP [NNS others]]]]]]]]]]]]]] [. .]]]\""
      ]
     },
     "execution_count": 23,
     "metadata": {},
     "output_type": "execute_result"
    }
   ],
   "source": [
    "x"
   ]
  },
  {
   "cell_type": "code",
   "execution_count": null,
   "id": "def67546",
   "metadata": {},
   "outputs": [],
   "source": [
    "x = bracket(\"(ROOT (S (NP (NP (NNPS Letters)) (VP (VBN delivered) (PP (IN on) (NP (NN time))) (PP (IN by) (NP (ADJP (JJ old) (HYPH -) (JJ fashioned)) (NNS means))))) (VP (VBP are) (ADJP (RB increasingly) (JJ rare)) (, ,) (SBAR (IN so) (S (NP (PRP it)) (VP (VBZ is) (ADVP (ADVP (RB as) (RB well)) (SBAR (IN that) (S (NP (DT that)) (VP (VBZ is) (RB not) (ADJP (NP (DT the) (JJ only) (NN option)) (JJ available)))))))))) (. .)))\")"
   ]
  },
  {
   "cell_type": "code",
   "execution_count": null,
   "id": "92df3e88",
   "metadata": {},
   "outputs": [],
   "source": [
    "x"
   ]
  },
  {
   "cell_type": "code",
   "execution_count": null,
   "id": "21ea09e7",
   "metadata": {},
   "outputs": [],
   "source": [
    "def debracket(x):\n",
    "    x = x.replace('[','(')\n",
    "    x =x.replace(']',')')\n",
    "    return x"
   ]
  },
  {
   "cell_type": "code",
   "execution_count": null,
   "id": "d6cb79f7",
   "metadata": {},
   "outputs": [],
   "source": [
    "x = debracket(\"[ROOT  [S [NP [NP [NNS letters]]   [S [VP [VP [VBN delivered] [PP [IN on] [NP [NN time]]]]    [PP [IN by] [NP [ADJP [ADJP [ADJP [JJ old]]  [HYPH -]]  [JJ fashioned]] [NNS means:8]]]]]]    [VP [VBP are:9] [ADJP [ADVP [RB increasingly:10]] [JJ rare:11]]]   [S [ADVP [, ,:12] [RB so:13]]    [S [NP [PRP it:14]]     [VP [VP [VBZ is:15]      [ADVP [RB as:16]       [ADVP [RB well:17]]]]        [S [IN that:18]         [S [NP [DT that:19]]          [VP [VBZ is:20] [ADVP [RB not:21]           [NP [NP [DT the:22] [NP [ADJP [JJ only:23]] [NN option:24]]]            [ADJP [JJ available:25]]]]]]]]]]  [. .:26]]]\")"
   ]
  },
  {
   "cell_type": "code",
   "execution_count": null,
   "id": "4d87d7d7",
   "metadata": {},
   "outputs": [],
   "source": [
    "x"
   ]
  },
  {
   "cell_type": "code",
   "execution_count": null,
   "id": "82afa8b4",
   "metadata": {},
   "outputs": [],
   "source": []
  }
 ],
 "metadata": {
  "kernelspec": {
   "display_name": "Python 3 (ipykernel)",
   "language": "python",
   "name": "python3"
  },
  "language_info": {
   "codemirror_mode": {
    "name": "ipython",
    "version": 3
   },
   "file_extension": ".py",
   "mimetype": "text/x-python",
   "name": "python",
   "nbconvert_exporter": "python",
   "pygments_lexer": "ipython3",
   "version": "3.8.10"
  }
 },
 "nbformat": 4,
 "nbformat_minor": 5
}
